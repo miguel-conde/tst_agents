{
 "cells": [
  {
   "cell_type": "code",
   "execution_count": 43,
   "metadata": {},
   "outputs": [],
   "source": [
    "import openai\n",
    "import json\n",
    "\n",
    "from execenvtool import ExecutionEnvironment\n",
    "\n",
    "%reload_ext autoreload\n",
    "%autoreload 2"
   ]
  },
  {
   "cell_type": "code",
   "execution_count": 44,
   "metadata": {},
   "outputs": [
    {
     "data": {
      "text/plain": [
       "False"
      ]
     },
     "execution_count": 44,
     "metadata": {},
     "output_type": "execute_result"
    }
   ],
   "source": [
    "from dotenv import load_dotenv\n",
    "\n",
    "load_dotenv()"
   ]
  },
  {
   "cell_type": "code",
   "execution_count": 45,
   "metadata": {},
   "outputs": [],
   "source": [
    "tools = [ {\n",
    "    'type': 'function',\n",
    "    'function': {\n",
    "        \"name\": \"pyExec\",\n",
    "        \"description\": \"Ejecuta código Python en un entorno persistente.\",\n",
    "        \"parameters\": {\n",
    "            \"type\": \"object\",\n",
    "            \"properties\": {\n",
    "                \"code\": {\"type\": \"string\", \"description\": \"El código Python a ejecutar.\"}\n",
    "            },\n",
    "            \"required\": [\"code\"]\n",
    "            }\n",
    "        }\n",
    "    },\n",
    "    {\n",
    "    'type': 'function',\n",
    "    'function': {\n",
    "        \"name\": \"format_variable\",\n",
    "        \"description\": \"Formatea una variable del entorno para hacerla entendible por el LLM.\",\n",
    "        \"parameters\": {\n",
    "            \"type\": \"object\",\n",
    "            \"properties\": {\n",
    "                \"var_name\": {\"type\": \"string\", \"description\": \"Nombre de la variable a formatear.\"}\n",
    "            },\n",
    "            \"required\": [\"var_name\"]\n",
    "            }\n",
    "        }\n",
    "    }\n",
    "    ]"
   ]
  },
  {
   "cell_type": "code",
   "execution_count": 46,
   "metadata": {},
   "outputs": [],
   "source": [
    "# Instanciar el entorno\n",
    "env = ExecutionEnvironment()\n",
    "\n",
    "client =openai.OpenAI()\n",
    "\n",
    "messages = []\n",
    "\n",
    "def process_response(response):\n",
    "    response_message = response.choices[0].message\n",
    "    messages.append(response_message)\n",
    "    \n",
    "    if dict(response_message).get('tool_calls'):\n",
    "        \n",
    "        for tool_call in response_message.tool_calls:\n",
    "            # Which function call was invoked\n",
    "            function_called = tool_call.function.name\n",
    "            \n",
    "            # Extracting the arguments\n",
    "            function_args  = json.loads(tool_call.function.arguments)\n",
    "        \n",
    "            # Function names\n",
    "            available_functions = {\n",
    "                \"pyExec\": env.pyExec,\n",
    "                \"format_variable\": env.format_variable\n",
    "            }\n",
    "            \n",
    "            fuction_to_call = available_functions[function_called]\n",
    "            response_message = json.dumps(fuction_to_call(*list(function_args .values())))\n",
    "            \n",
    "            messages.append({\"tool_call_id\": tool_call.id,\n",
    "                            \"role\": \"tool\",\n",
    "                            \"name\": function_called,\n",
    "                            \"content\": response_message,\n",
    "                            })\n",
    "            \n",
    "        response = client.chat.completions.create(\n",
    "            model=\"gpt-4o\",\n",
    "            messages=messages,\n",
    "            tools=tools,\n",
    "            tool_choice=\"auto\"\n",
    "            )\n",
    "        \n",
    "        process_response(response)\n",
    "        \n",
    "    else:\n",
    "        response_message = response_message.content\n",
    "        messages.append({\"role\": \"assistant\",\n",
    "                         \"content\": response_message,\n",
    "                         })\n",
    "        \n",
    "    return response"
   ]
  },
  {
   "cell_type": "code",
   "execution_count": 47,
   "metadata": {},
   "outputs": [],
   "source": [
    "# Mensaje del usuario\n",
    "messages = [\n",
    "    {\n",
    "        \"role\": \"system\", \n",
    "        \"content\": \n",
    "            \"\"\"\n",
    "            Eres un programador experto en Python. \n",
    "            Respetas siempre PEP8. \n",
    "            Tu objetivo es escribir el código necesario para realizar la tarea que te pidan. \n",
    "            Tus respuestas deben ir en formato markedown.\n",
    "            \"\"\"},\n",
    "    {\"role\": \"user\", \"content\": \"Crea una lista de los primeros 100 números y calcula su suma. \"},\n",
    "]\n",
    "\n",
    "response = client.chat.completions.create(\n",
    "    model=\"gpt-4o\",\n",
    "    messages=messages,\n",
    "    tools=tools,\n",
    "    tool_choice=\"auto\"\n",
    ")"
   ]
  },
  {
   "cell_type": "code",
   "execution_count": 48,
   "metadata": {},
   "outputs": [
    {
     "data": {
      "text/plain": [
       "ChatCompletion(id='chatcmpl-AgVHSGemwmdMbwqBFXhi7sEdAN7SO', choices=[Choice(finish_reason='tool_calls', index=0, logprobs=None, message=ChatCompletionMessage(content=None, refusal=None, role='assistant', audio=None, function_call=None, tool_calls=[ChatCompletionMessageToolCall(id='call_CrPlF7mmw0bWotWoJ1NJNH5R', function=Function(arguments='{\"var_name\":\"numbers\"}', name='format_variable'), type='function')]))], created=1734693382, model='gpt-4o-2024-08-06', object='chat.completion', service_tier=None, system_fingerprint='fp_5f20662549', usage=CompletionUsage(completion_tokens=16, prompt_tokens=241, total_tokens=257, completion_tokens_details=CompletionTokensDetails(accepted_prediction_tokens=0, audio_tokens=0, reasoning_tokens=0, rejected_prediction_tokens=0), prompt_tokens_details=PromptTokensDetails(audio_tokens=0, cached_tokens=0)))"
      ]
     },
     "execution_count": 48,
     "metadata": {},
     "output_type": "execute_result"
    }
   ],
   "source": [
    "process_response(response)"
   ]
  },
  {
   "cell_type": "code",
   "execution_count": 49,
   "metadata": {},
   "outputs": [
    {
     "name": "stdout",
     "output_type": "stream",
     "text": [
      "He creado una lista con los primeros 100 números, y su suma es:\n",
      "\n",
      "- **Lista de números**: [1, 2, 3, 4, 5, 6, 7, 8, ..., 99, 100]\n",
      "- **Suma total**: 5050\n"
     ]
    }
   ],
   "source": [
    "print(messages[-1]['content'])"
   ]
  },
  {
   "cell_type": "code",
   "execution_count": 50,
   "metadata": {},
   "outputs": [
    {
     "data": {
      "text/markdown": [
       "<p>He creado una lista con los primeros 100 números, y su suma es:</p>\n",
       "<ul>\n",
       "<li><strong>Lista de números</strong>: [1, 2, 3, 4, 5, 6, 7, 8, ..., 99, 100]</li>\n",
       "<li><strong>Suma total</strong>: 5050</li>\n",
       "</ul>"
      ],
      "text/plain": [
       "<IPython.core.display.Markdown object>"
      ]
     },
     "metadata": {},
     "output_type": "display_data"
    }
   ],
   "source": [
    "# Generate markdown to print messages[-1]['content']\n",
    "import markdown\n",
    "from IPython.display import display, Markdown\n",
    "\n",
    "display(Markdown(markdown.markdown(messages[-1]['content'])))"
   ]
  },
  {
   "cell_type": "code",
   "execution_count": 51,
   "metadata": {},
   "outputs": [
    {
     "data": {
      "text/plain": [
       "ChatCompletion(id='chatcmpl-AgVHWUgBTpkKVpA4SzaHJmisEq4n3', choices=[Choice(finish_reason='stop', index=0, logprobs=None, message=ChatCompletionMessage(content='La variable `numeros` es una lista que contiene los primeros 100 números enteros:\\n\\n```python\\n[1, 2, 3, 4, 5, 6, 7, 8, 9, 10, 11, 12, 13, 14, 15, 16, 17, 18, 19, 20, 21, 22, 23, 24, 25, 26, 27, 28, 29, 30, 31, 32, 33, 34, 35, 36, 37, 38, 39, 40, 41, 42, 43, 44, 45, 46, 47, 48, 49, 50, 51, 52, 53, 54, 55, 56, 57, 58, 59, 60, 61, 62, 63, 64, 65, 66, 67, 68, 69, 70, 71, 72, 73, 74, 75, 76, 77, 78, 79, 80, 81, 82, 83, 84, 85, 86, 87, 88, 89, 90, 91, 92, 93, 94, 95, 96, 97, 98, 99, 100]\\n```\\n\\nSi deseas ver algún otro detalle, házmelo saber.', refusal=None, role='assistant', audio=None, function_call=None, tool_calls=None))], created=1734693386, model='gpt-4o-2024-08-06', object='chat.completion', service_tier=None, system_fingerprint='fp_5f20662549', usage=CompletionUsage(completion_tokens=338, prompt_tokens=774, total_tokens=1112, completion_tokens_details=CompletionTokensDetails(accepted_prediction_tokens=0, audio_tokens=0, reasoning_tokens=0, rejected_prediction_tokens=0), prompt_tokens_details=PromptTokensDetails(audio_tokens=0, cached_tokens=0)))"
      ]
     },
     "execution_count": 51,
     "metadata": {},
     "output_type": "execute_result"
    }
   ],
   "source": [
    "# Mensaje del usuario\n",
    "messages.append({\"role\": \"user\", \"content\": \"Muestra la variable `numeros` formateada.\"})\n",
    "\n",
    "response = client.chat.completions.create(\n",
    "    model=\"gpt-4o\",\n",
    "    messages=messages,\n",
    "    tools=tools,\n",
    "    tool_choice=\"auto\"\n",
    ")\n",
    "\n",
    "process_response(response)"
   ]
  },
  {
   "cell_type": "code",
   "execution_count": 52,
   "metadata": {},
   "outputs": [
    {
     "name": "stdout",
     "output_type": "stream",
     "text": [
      "La variable `numeros` es una lista que contiene los primeros 100 números enteros:\n",
      "\n",
      "```python\n",
      "[1, 2, 3, 4, 5, 6, 7, 8, 9, 10, 11, 12, 13, 14, 15, 16, 17, 18, 19, 20, 21, 22, 23, 24, 25, 26, 27, 28, 29, 30, 31, 32, 33, 34, 35, 36, 37, 38, 39, 40, 41, 42, 43, 44, 45, 46, 47, 48, 49, 50, 51, 52, 53, 54, 55, 56, 57, 58, 59, 60, 61, 62, 63, 64, 65, 66, 67, 68, 69, 70, 71, 72, 73, 74, 75, 76, 77, 78, 79, 80, 81, 82, 83, 84, 85, 86, 87, 88, 89, 90, 91, 92, 93, 94, 95, 96, 97, 98, 99, 100]\n",
      "```\n",
      "\n",
      "Si deseas ver algún otro detalle, házmelo saber.\n"
     ]
    }
   ],
   "source": [
    "print(messages[-1]['content'])"
   ]
  },
  {
   "cell_type": "code",
   "execution_count": 53,
   "metadata": {},
   "outputs": [
    {
     "data": {
      "text/plain": [
       "ChatCompletion(id='chatcmpl-AgVHeEf48go2WAafdqIfF60AViIFo', choices=[Choice(finish_reason='stop', index=0, logprobs=None, message=ChatCompletionMessage(content='He generado un DataFrame de 10 filas por 5 columnas con números aleatorios y lo he asignado a la variable `df_random`. Si deseas ver su contenido, solo dímelo.', refusal=None, role='assistant', audio=None, function_call=None, tool_calls=None))], created=1734693394, model='gpt-4o-2024-08-06', object='chat.completion', service_tier=None, system_fingerprint='fp_5f20662549', usage=CompletionUsage(completion_tokens=42, prompt_tokens=1546, total_tokens=1588, completion_tokens_details=CompletionTokensDetails(accepted_prediction_tokens=0, audio_tokens=0, reasoning_tokens=0, rejected_prediction_tokens=0), prompt_tokens_details=PromptTokensDetails(audio_tokens=0, cached_tokens=1408)))"
      ]
     },
     "execution_count": 53,
     "metadata": {},
     "output_type": "execute_result"
    }
   ],
   "source": [
    "# Mensaje del usuario\n",
    "messages.append({\"role\": \"user\", \"content\": \"Genera un dataframe 10x5 con numeros aleatorios. Asígnalo a la variable `df_random`.\"})\n",
    "\n",
    "response = client.chat.completions.create(\n",
    "    model=\"gpt-4o\",\n",
    "    messages=messages,\n",
    "    tools=tools,\n",
    "    tool_choice=\"auto\"\n",
    ")\n",
    "\n",
    "process_response(response)"
   ]
  },
  {
   "cell_type": "code",
   "execution_count": 54,
   "metadata": {},
   "outputs": [
    {
     "name": "stdout",
     "output_type": "stream",
     "text": [
      "He generado un DataFrame de 10 filas por 5 columnas con números aleatorios y lo he asignado a la variable `df_random`. Si deseas ver su contenido, solo dímelo.\n"
     ]
    }
   ],
   "source": [
    "print(messages[-1]['content'])"
   ]
  },
  {
   "cell_type": "code",
   "execution_count": 55,
   "metadata": {},
   "outputs": [
    {
     "data": {
      "text/plain": [
       "ChatCompletion(id='chatcmpl-AgVHhIzYFsqJ6fh0FegsDR2taI5oG', choices=[Choice(finish_reason='stop', index=0, logprobs=None, message=ChatCompletionMessage(content='Aquí está el DataFrame `df_random` con números aleatorios:\\n\\n```plaintext\\n          0         1         2         3         4\\n0  0.570197  0.438602  0.988374  0.102045  0.208877\\n1  0.161310  0.653108  0.253292  0.466311  0.244426\\n2  0.158970  0.110375  0.656330  0.138183  0.196582\\n3  0.368725  0.820993  0.097101  0.837945  0.096098\\n4  0.976459  0.468651  0.976761  0.604846  0.739264\\n5  0.039188  0.282807  0.120197  0.296140  0.118728\\n6  0.317983  0.414263  0.064147  0.692472  0.566601\\n7  0.265389  0.523248  0.093941  0.575946  0.929296\\n8  0.318569  0.667410  0.131798  0.716327  0.289406\\n9  0.183191  0.586513  0.020108  0.828940  0.004695\\n```\\n\\nEste DataFrame tiene 10 filas y 5 columnas, cada una con valores aleatorios entre 0 y 1.', refusal=None, role='assistant', audio=None, function_call=None, tool_calls=None))], created=1734693397, model='gpt-4o-2024-08-06', object='chat.completion', service_tier=None, system_fingerprint='fp_5f20662549', usage=CompletionUsage(completion_tokens=382, prompt_tokens=2346, total_tokens=2728, completion_tokens_details=CompletionTokensDetails(accepted_prediction_tokens=0, audio_tokens=0, reasoning_tokens=0, rejected_prediction_tokens=0), prompt_tokens_details=PromptTokensDetails(audio_tokens=0, cached_tokens=1536)))"
      ]
     },
     "execution_count": 55,
     "metadata": {},
     "output_type": "execute_result"
    }
   ],
   "source": [
    "# Mensaje del usuario\n",
    "messages.append({\"role\": \"user\", \"content\": \"Muestra el datafrasme `df_random` formateado\"})\n",
    "\n",
    "response = client.chat.completions.create(\n",
    "    model=\"gpt-4o\",\n",
    "    messages=messages,\n",
    "    tools=tools,\n",
    "    tool_choice=\"auto\"\n",
    ")\n",
    "\n",
    "process_response(response)"
   ]
  },
  {
   "cell_type": "code",
   "execution_count": 56,
   "metadata": {},
   "outputs": [
    {
     "name": "stdout",
     "output_type": "stream",
     "text": [
      "Aquí está el DataFrame `df_random` con números aleatorios:\n",
      "\n",
      "```plaintext\n",
      "          0         1         2         3         4\n",
      "0  0.570197  0.438602  0.988374  0.102045  0.208877\n",
      "1  0.161310  0.653108  0.253292  0.466311  0.244426\n",
      "2  0.158970  0.110375  0.656330  0.138183  0.196582\n",
      "3  0.368725  0.820993  0.097101  0.837945  0.096098\n",
      "4  0.976459  0.468651  0.976761  0.604846  0.739264\n",
      "5  0.039188  0.282807  0.120197  0.296140  0.118728\n",
      "6  0.317983  0.414263  0.064147  0.692472  0.566601\n",
      "7  0.265389  0.523248  0.093941  0.575946  0.929296\n",
      "8  0.318569  0.667410  0.131798  0.716327  0.289406\n",
      "9  0.183191  0.586513  0.020108  0.828940  0.004695\n",
      "```\n",
      "\n",
      "Este DataFrame tiene 10 filas y 5 columnas, cada una con valores aleatorios entre 0 y 1.\n"
     ]
    }
   ],
   "source": [
    "print(messages[-1]['content'])"
   ]
  },
  {
   "cell_type": "code",
   "execution_count": 57,
   "metadata": {},
   "outputs": [
    {
     "data": {
      "text/plain": [
       "ChatCompletion(id='chatcmpl-AgVHsOBEiQQMnWNsqVe4q9j745uaJ', choices=[Choice(finish_reason='tool_calls', index=0, logprobs=None, message=ChatCompletionMessage(content=None, refusal=None, role='assistant', audio=None, function_call=None, tool_calls=[ChatCompletionMessageToolCall(id='call_1X5Zvl2YEyixFbEx8LS3u1Ta', function=Function(arguments='{\"var_name\":\"df_stats\"}', name='format_variable'), type='function')]))], created=1734693408, model='gpt-4o-2024-08-06', object='chat.completion', service_tier=None, system_fingerprint='fp_5f20662549', usage=CompletionUsage(completion_tokens=16, prompt_tokens=3191, total_tokens=3207, completion_tokens_details=CompletionTokensDetails(accepted_prediction_tokens=0, audio_tokens=0, reasoning_tokens=0, rejected_prediction_tokens=0), prompt_tokens_details=PromptTokensDetails(audio_tokens=0, cached_tokens=3072)))"
      ]
     },
     "execution_count": 57,
     "metadata": {},
     "output_type": "execute_result"
    }
   ],
   "source": [
    "# Mensaje del usuario\n",
    "messages.append({\"role\": \"user\", \"content\": \"Calcula estadisticos básicos para todas las columnas `df_random` y assignalas a otro dataframe `df_stats`.\"})\n",
    "\n",
    "response = client.chat.completions.create(\n",
    "    model=\"gpt-4o\",\n",
    "    messages=messages,\n",
    "    tools=tools,\n",
    "    tool_choice=\"auto\"\n",
    ")\n",
    "\n",
    "process_response(response)"
   ]
  },
  {
   "cell_type": "code",
   "execution_count": 58,
   "metadata": {},
   "outputs": [
    {
     "name": "stdout",
     "output_type": "stream",
     "text": [
      "Aquí están los estadísticos básicos calculados para todas las columnas del DataFrame `df_random`, asignados al nuevo DataFrame `df_stats`:\n",
      "\n",
      "```plaintext\n",
      "             0          1          2          3          4\n",
      "count  10.000000  10.000000  10.000000  10.000000  10.000000\n",
      "mean    0.336000   0.496597   0.340205   0.525916   0.339397\n",
      "std     0.267712   0.203715   0.383416   0.268384   0.303381\n",
      "min     0.039188   0.110375   0.020108   0.102045   0.004695\n",
      "25%     0.166780   0.420348   0.094731   0.338683   0.138191\n",
      "50%     0.291686   0.495950   0.125997   0.590396   0.226651\n",
      "75%     0.356186   0.636459   0.555570   0.710363   0.497303\n",
      "max     0.976459   0.820993   0.988374   0.837945   0.929296\n",
      "```\n",
      "\n",
      "Si necesitas más información, no dudes en preguntar.\n"
     ]
    }
   ],
   "source": [
    "print(messages[-1]['content'])"
   ]
  },
  {
   "cell_type": "code",
   "execution_count": 59,
   "metadata": {},
   "outputs": [
    {
     "data": {
      "image/png": "[encoded data removed]",
      "text/plain": [
       "<Figure size 640x480 with 1 Axes>"
      ]
     },
     "metadata": {},
     "output_type": "display_data"
    },
    {
     "data": {
      "text/plain": [
       "ChatCompletion(id='chatcmpl-AgVI3XdeuEpyF8GbJ9g2AbUiT6HZp', choices=[Choice(finish_reason='stop', index=0, logprobs=None, message=ChatCompletionMessage(content='He generado un gráfico de dispersión (scatter plot) usando las columnas 0 y 1 del DataFrame `df_random`. El gráfico muestra los valores de la columna 0 en el eje x y los valores de la columna 1 en el eje y, lo que permite visualizar cualquier posible relación entre estos dos conjuntos de datos.\\n\\nSi necesitas otra visualización o ayuda adicional, házmelo saber.', refusal=None, role='assistant', audio=None, function_call=None, tool_calls=None))], created=1734693419, model='gpt-4o-2024-08-06', object='chat.completion', service_tier=None, system_fingerprint='fp_5f20662549', usage=CompletionUsage(completion_tokens=83, prompt_tokens=4509, total_tokens=4592, completion_tokens_details=CompletionTokensDetails(accepted_prediction_tokens=0, audio_tokens=0, reasoning_tokens=0, rejected_prediction_tokens=0), prompt_tokens_details=PromptTokensDetails(audio_tokens=0, cached_tokens=4352)))"
      ]
     },
     "execution_count": 59,
     "metadata": {},
     "output_type": "execute_result"
    }
   ],
   "source": [
    "messages.append({\"role\": \"user\", \"content\": \"Crea un scatter plot con las columnas 0 y 1 de `df_random`.\"})\n",
    "\n",
    "response = client.chat.completions.create(\n",
    "    model=\"gpt-4o\",\n",
    "    messages=messages,\n",
    "    tools=tools,\n",
    "    tool_choice=\"auto\"\n",
    ")\n",
    "\n",
    "process_response(response)"
   ]
  },
  {
   "cell_type": "code",
   "execution_count": 60,
   "metadata": {},
   "outputs": [
    {
     "name": "stdout",
     "output_type": "stream",
     "text": [
      "He generado un gráfico de dispersión (scatter plot) usando las columnas 0 y 1 del DataFrame `df_random`. El gráfico muestra los valores de la columna 0 en el eje x y los valores de la columna 1 en el eje y, lo que permite visualizar cualquier posible relación entre estos dos conjuntos de datos.\n",
      "\n",
      "Si necesitas otra visualización o ayuda adicional, házmelo saber.\n"
     ]
    }
   ],
   "source": [
    "print(messages[-1]['content'])"
   ]
  },
  {
   "cell_type": "code",
   "execution_count": 61,
   "metadata": {},
   "outputs": [
    {
     "data": {
      "text/plain": [
       "[{'role': 'system',\n",
       "  'content': '\\n            Eres un programador experto en Python. \\n            Respetas siempre PEP8. \\n            Tu objetivo es escribir el código necesario para realizar la tarea que te pidan. \\n            Tus respuestas deben ir en formato markedown.\\n            '},\n",
       " {'role': 'user',\n",
       "  'content': 'Crea una lista de los primeros 100 números y calcula su suma. '},\n",
       " ChatCompletionMessage(content=None, refusal=None, role='assistant', audio=None, function_call=None, tool_calls=[ChatCompletionMessageToolCall(id='call_DIpYqRcM1BFLMEGLxOEoN5vs', function=Function(arguments='{\"code\": \"numbers = list(range(1, 101))\"}', name='pyExec'), type='function'), ChatCompletionMessageToolCall(id='call_AieYO82P7p4tOr6lMzqNcZOj', function=Function(arguments='{\"code\": \"total_sum = sum(numbers)\"}', name='pyExec'), type='function')]),\n",
       " {'tool_call_id': 'call_DIpYqRcM1BFLMEGLxOEoN5vs',\n",
       "  'role': 'tool',\n",
       "  'name': 'pyExec',\n",
       "  'content': '[\"numbers\"]'},\n",
       " {'tool_call_id': 'call_AieYO82P7p4tOr6lMzqNcZOj',\n",
       "  'role': 'tool',\n",
       "  'name': 'pyExec',\n",
       "  'content': '[\"numbers\", \"total_sum\"]'},\n",
       " ChatCompletionMessage(content=None, refusal=None, role='assistant', audio=None, function_call=None, tool_calls=[ChatCompletionMessageToolCall(id='call_CrPlF7mmw0bWotWoJ1NJNH5R', function=Function(arguments='{\"var_name\":\"numbers\"}', name='format_variable'), type='function')]),\n",
       " {'tool_call_id': 'call_CrPlF7mmw0bWotWoJ1NJNH5R',\n",
       "  'role': 'tool',\n",
       "  'name': 'format_variable',\n",
       "  'content': '{\"type\": \"list\", \"size\": 856, \"content\": [1, 2, 3, 4, 5, 6, 7, 8, 9, 10, 11, 12, 13, 14, 15, 16, 17, 18, 19, 20, 21, 22, 23, 24, 25, 26, 27, 28, 29, 30, 31, 32, 33, 34, 35, 36, 37, 38, 39, 40, 41, 42, 43, 44, 45, 46, 47, 48, 49, 50, 51, 52, 53, 54, 55, 56, 57, 58, 59, 60, 61, 62, 63, 64, 65, 66, 67, 68, 69, 70, 71, 72, 73, 74, 75, 76, 77, 78, 79, 80, 81, 82, 83, 84, 85, 86, 87, 88, 89, 90, 91, 92, 93, 94, 95, 96, 97, 98, 99, 100]}'},\n",
       " ChatCompletionMessage(content=None, refusal=None, role='assistant', audio=None, function_call=None, tool_calls=[ChatCompletionMessageToolCall(id='call_rVWYRcH58mvDXTsXlb0NgkyB', function=Function(arguments='{\"var_name\":\"total_sum\"}', name='format_variable'), type='function')]),\n",
       " {'tool_call_id': 'call_rVWYRcH58mvDXTsXlb0NgkyB',\n",
       "  'role': 'tool',\n",
       "  'name': 'format_variable',\n",
       "  'content': '{\"type\": \"int\", \"size\": 28, \"content\": 5050}'},\n",
       " ChatCompletionMessage(content='He creado una lista con los primeros 100 números, y su suma es:\\n\\n- **Lista de números**: [1, 2, 3, 4, 5, 6, 7, 8, ..., 99, 100]\\n- **Suma total**: 5050', refusal=None, role='assistant', audio=None, function_call=None, tool_calls=None),\n",
       " {'role': 'assistant',\n",
       "  'content': 'He creado una lista con los primeros 100 números, y su suma es:\\n\\n- **Lista de números**: [1, 2, 3, 4, 5, 6, 7, 8, ..., 99, 100]\\n- **Suma total**: 5050'},\n",
       " {'role': 'user', 'content': 'Muestra la variable `numeros` formateada.'},\n",
       " ChatCompletionMessage(content='La variable `numeros` es una lista que contiene los primeros 100 números enteros:\\n\\n```python\\n[1, 2, 3, 4, 5, 6, 7, 8, 9, 10, 11, 12, 13, 14, 15, 16, 17, 18, 19, 20, 21, 22, 23, 24, 25, 26, 27, 28, 29, 30, 31, 32, 33, 34, 35, 36, 37, 38, 39, 40, 41, 42, 43, 44, 45, 46, 47, 48, 49, 50, 51, 52, 53, 54, 55, 56, 57, 58, 59, 60, 61, 62, 63, 64, 65, 66, 67, 68, 69, 70, 71, 72, 73, 74, 75, 76, 77, 78, 79, 80, 81, 82, 83, 84, 85, 86, 87, 88, 89, 90, 91, 92, 93, 94, 95, 96, 97, 98, 99, 100]\\n```\\n\\nSi deseas ver algún otro detalle, házmelo saber.', refusal=None, role='assistant', audio=None, function_call=None, tool_calls=None),\n",
       " {'role': 'assistant',\n",
       "  'content': 'La variable `numeros` es una lista que contiene los primeros 100 números enteros:\\n\\n```python\\n[1, 2, 3, 4, 5, 6, 7, 8, 9, 10, 11, 12, 13, 14, 15, 16, 17, 18, 19, 20, 21, 22, 23, 24, 25, 26, 27, 28, 29, 30, 31, 32, 33, 34, 35, 36, 37, 38, 39, 40, 41, 42, 43, 44, 45, 46, 47, 48, 49, 50, 51, 52, 53, 54, 55, 56, 57, 58, 59, 60, 61, 62, 63, 64, 65, 66, 67, 68, 69, 70, 71, 72, 73, 74, 75, 76, 77, 78, 79, 80, 81, 82, 83, 84, 85, 86, 87, 88, 89, 90, 91, 92, 93, 94, 95, 96, 97, 98, 99, 100]\\n```\\n\\nSi deseas ver algún otro detalle, házmelo saber.'},\n",
       " {'role': 'user',\n",
       "  'content': 'Genera un dataframe 10x5 con numeros aleatorios. Asígnalo a la variable `df_random`.'},\n",
       " ChatCompletionMessage(content=None, refusal=None, role='assistant', audio=None, function_call=None, tool_calls=[ChatCompletionMessageToolCall(id='call_cadCf5sGk8TYWaPdpaq2Ubig', function=Function(arguments='{\"code\":\"import pandas as pd\\\\nimport numpy as np\\\\n\\\\ndf_random = pd.DataFrame(np.random.rand(10, 5))\"}', name='pyExec'), type='function')]),\n",
       " {'tool_call_id': 'call_cadCf5sGk8TYWaPdpaq2Ubig',\n",
       "  'role': 'tool',\n",
       "  'name': 'pyExec',\n",
       "  'content': '[\"numbers\", \"total_sum\", \"pd\", \"np\", \"df_random\"]'},\n",
       " ChatCompletionMessage(content='He generado un DataFrame de 10 filas por 5 columnas con números aleatorios y lo he asignado a la variable `df_random`. Si deseas ver su contenido, solo dímelo.', refusal=None, role='assistant', audio=None, function_call=None, tool_calls=None),\n",
       " {'role': 'assistant',\n",
       "  'content': 'He generado un DataFrame de 10 filas por 5 columnas con números aleatorios y lo he asignado a la variable `df_random`. Si deseas ver su contenido, solo dímelo.'},\n",
       " {'role': 'user', 'content': 'Muestra el datafrasme `df_random` formateado'},\n",
       " ChatCompletionMessage(content=None, refusal=None, role='assistant', audio=None, function_call=None, tool_calls=[ChatCompletionMessageToolCall(id='call_QP175DqpzA91uTgyeP6ORHwi', function=Function(arguments='{\"var_name\":\"df_random\"}', name='format_variable'), type='function')]),\n",
       " {'tool_call_id': 'call_QP175DqpzA91uTgyeP6ORHwi',\n",
       "  'role': 'tool',\n",
       "  'name': 'format_variable',\n",
       "  'content': '{\"type\": \"DataFrame\", \"size\": 564, \"truncated\": false, \"content\": [{\"0\": 0.5701967704178796, \"1\": 0.43860151346232035, \"2\": 0.9883738380592262, \"3\": 0.10204481074802807, \"4\": 0.2088767560948347}, {\"0\": 0.16130951788499626, \"1\": 0.6531083254653984, \"2\": 0.2532916025397821, \"3\": 0.4663107728563063, \"4\": 0.24442559200160274}, {\"0\": 0.15896958364551972, \"1\": 0.11037514116430513, \"2\": 0.6563295894652734, \"3\": 0.1381829513486138, \"4\": 0.1965823616800535}, {\"0\": 0.3687251706609641, \"1\": 0.8209932298479351, \"2\": 0.09710127579306127, \"3\": 0.8379449074988039, \"4\": 0.09609840789396307}, {\"0\": 0.9764594650133958, \"1\": 0.4686512016477016, \"2\": 0.9767610881903371, \"3\": 0.604845519745046, \"4\": 0.7392635793983017}, {\"0\": 0.039187792254320675, \"1\": 0.2828069625764096, \"2\": 0.1201965612131689, \"3\": 0.29614019752214493, \"4\": 0.11872771895424405}, {\"0\": 0.317983179393976, \"1\": 0.41426299451466997, \"2\": 0.06414749634878436, \"3\": 0.6924721193700198, \"4\": 0.5666014542065752}, {\"0\": 0.2653894909394454, \"1\": 0.5232480534666997, \"2\": 0.09394051075844168, \"3\": 0.5759464955561793, \"4\": 0.9292961975762141}, {\"0\": 0.31856895245132366, \"1\": 0.6674103799636817, \"2\": 0.13179786240439217, \"3\": 0.7163272041185655, \"4\": 0.2894060929472011}, {\"0\": 0.18319136200711683, \"1\": 0.5865129348100832, \"2\": 0.020107546187493552, \"3\": 0.8289400292173631, \"4\": 0.004695476192547066}]}'},\n",
       " ChatCompletionMessage(content='Aquí está el DataFrame `df_random` con números aleatorios:\\n\\n```plaintext\\n          0         1         2         3         4\\n0  0.570197  0.438602  0.988374  0.102045  0.208877\\n1  0.161310  0.653108  0.253292  0.466311  0.244426\\n2  0.158970  0.110375  0.656330  0.138183  0.196582\\n3  0.368725  0.820993  0.097101  0.837945  0.096098\\n4  0.976459  0.468651  0.976761  0.604846  0.739264\\n5  0.039188  0.282807  0.120197  0.296140  0.118728\\n6  0.317983  0.414263  0.064147  0.692472  0.566601\\n7  0.265389  0.523248  0.093941  0.575946  0.929296\\n8  0.318569  0.667410  0.131798  0.716327  0.289406\\n9  0.183191  0.586513  0.020108  0.828940  0.004695\\n```\\n\\nEste DataFrame tiene 10 filas y 5 columnas, cada una con valores aleatorios entre 0 y 1.', refusal=None, role='assistant', audio=None, function_call=None, tool_calls=None),\n",
       " {'role': 'assistant',\n",
       "  'content': 'Aquí está el DataFrame `df_random` con números aleatorios:\\n\\n```plaintext\\n          0         1         2         3         4\\n0  0.570197  0.438602  0.988374  0.102045  0.208877\\n1  0.161310  0.653108  0.253292  0.466311  0.244426\\n2  0.158970  0.110375  0.656330  0.138183  0.196582\\n3  0.368725  0.820993  0.097101  0.837945  0.096098\\n4  0.976459  0.468651  0.976761  0.604846  0.739264\\n5  0.039188  0.282807  0.120197  0.296140  0.118728\\n6  0.317983  0.414263  0.064147  0.692472  0.566601\\n7  0.265389  0.523248  0.093941  0.575946  0.929296\\n8  0.318569  0.667410  0.131798  0.716327  0.289406\\n9  0.183191  0.586513  0.020108  0.828940  0.004695\\n```\\n\\nEste DataFrame tiene 10 filas y 5 columnas, cada una con valores aleatorios entre 0 y 1.'},\n",
       " {'role': 'user',\n",
       "  'content': 'Calcula estadisticos básicos para todas las columnas `df_random` y assignalas a otro dataframe `df_stats`.'},\n",
       " ChatCompletionMessage(content=None, refusal=None, role='assistant', audio=None, function_call=None, tool_calls=[ChatCompletionMessageToolCall(id='call_uNEKw7BjnaPEZRZQooIz6Kvs', function=Function(arguments='{\"code\":\"df_stats = df_random.describe()\"}', name='pyExec'), type='function')]),\n",
       " {'tool_call_id': 'call_uNEKw7BjnaPEZRZQooIz6Kvs',\n",
       "  'role': 'tool',\n",
       "  'name': 'pyExec',\n",
       "  'content': '[\"numbers\", \"total_sum\", \"pd\", \"np\", \"df_random\", \"df_stats\"]'},\n",
       " ChatCompletionMessage(content=None, refusal=None, role='assistant', audio=None, function_call=None, tool_calls=[ChatCompletionMessageToolCall(id='call_1X5Zvl2YEyixFbEx8LS3u1Ta', function=Function(arguments='{\"var_name\":\"df_stats\"}', name='format_variable'), type='function')]),\n",
       " {'tool_call_id': 'call_1X5Zvl2YEyixFbEx8LS3u1Ta',\n",
       "  'role': 'tool',\n",
       "  'name': 'format_variable',\n",
       "  'content': '{\"type\": \"DataFrame\", \"size\": 771, \"truncated\": false, \"content\": [{\"0\": 10.0, \"1\": 10.0, \"2\": 10.0, \"3\": 10.0, \"4\": 10.0}, {\"0\": 0.33599812846689375, \"1\": 0.4965970736919204, \"2\": 0.340204737095996, \"3\": 0.5259155007981071, \"4\": 0.33939736369455376}, {\"0\": 0.26771173986640406, \"1\": 0.2037149180716186, \"2\": 0.3834156699324143, \"3\": 0.2683839068538793, \"4\": 0.30338107120702296}, {\"0\": 0.039187792254320675, \"1\": 0.11037514116430513, \"2\": 0.020107546187493552, \"3\": 0.10204481074802807, \"4\": 0.004695476192547066}, {\"0\": 0.1667799789155264, \"1\": 0.42034762425158256, \"2\": 0.09473070201709657, \"3\": 0.33868284135568527, \"4\": 0.13819137963569642}, {\"0\": 0.2916863351667107, \"1\": 0.4959496275572006, \"2\": 0.12599721180878054, \"3\": 0.5903960076506126, \"4\": 0.22665117404821872}, {\"0\": 0.356186116108554, \"1\": 0.6364594778015696, \"2\": 0.5555700927339006, \"3\": 0.7103634329314291, \"4\": 0.49730261389173164}, {\"0\": 0.9764594650133958, \"1\": 0.8209932298479351, \"2\": 0.9883738380592262, \"3\": 0.8379449074988039, \"4\": 0.9292961975762141}]}'},\n",
       " ChatCompletionMessage(content='Aquí están los estadísticos básicos calculados para todas las columnas del DataFrame `df_random`, asignados al nuevo DataFrame `df_stats`:\\n\\n```plaintext\\n             0          1          2          3          4\\ncount  10.000000  10.000000  10.000000  10.000000  10.000000\\nmean    0.336000   0.496597   0.340205   0.525916   0.339397\\nstd     0.267712   0.203715   0.383416   0.268384   0.303381\\nmin     0.039188   0.110375   0.020108   0.102045   0.004695\\n25%     0.166780   0.420348   0.094731   0.338683   0.138191\\n50%     0.291686   0.495950   0.125997   0.590396   0.226651\\n75%     0.356186   0.636459   0.555570   0.710363   0.497303\\nmax     0.976459   0.820993   0.988374   0.837945   0.929296\\n```\\n\\nSi necesitas más información, no dudes en preguntar.', refusal=None, role='assistant', audio=None, function_call=None, tool_calls=None),\n",
       " {'role': 'assistant',\n",
       "  'content': 'Aquí están los estadísticos básicos calculados para todas las columnas del DataFrame `df_random`, asignados al nuevo DataFrame `df_stats`:\\n\\n```plaintext\\n             0          1          2          3          4\\ncount  10.000000  10.000000  10.000000  10.000000  10.000000\\nmean    0.336000   0.496597   0.340205   0.525916   0.339397\\nstd     0.267712   0.203715   0.383416   0.268384   0.303381\\nmin     0.039188   0.110375   0.020108   0.102045   0.004695\\n25%     0.166780   0.420348   0.094731   0.338683   0.138191\\n50%     0.291686   0.495950   0.125997   0.590396   0.226651\\n75%     0.356186   0.636459   0.555570   0.710363   0.497303\\nmax     0.976459   0.820993   0.988374   0.837945   0.929296\\n```\\n\\nSi necesitas más información, no dudes en preguntar.'},\n",
       " {'role': 'user',\n",
       "  'content': 'Crea un scatter plot con las columnas 0 y 1 de `df_random`.'},\n",
       " ChatCompletionMessage(content=None, refusal=None, role='assistant', audio=None, function_call=None, tool_calls=[ChatCompletionMessageToolCall(id='call_PwiVndsAsa6GE7FSoflkbhMy', function=Function(arguments='{\"code\":\"import matplotlib.pyplot as plt\\\\n\\\\nplt.scatter(df_random[0], df_random[1])\\\\nplt.title(\\'Scatter Plot: Column 0 vs Column 1\\')\\\\nplt.xlabel(\\'Column 0\\')\\\\nplt.ylabel(\\'Column 1\\')\\\\nplt.grid(True)\\\\nplt.show()\"}', name='pyExec'), type='function')]),\n",
       " {'tool_call_id': 'call_PwiVndsAsa6GE7FSoflkbhMy',\n",
       "  'role': 'tool',\n",
       "  'name': 'pyExec',\n",
       "  'content': '[\"numbers\", \"total_sum\", \"pd\", \"np\", \"df_random\", \"df_stats\", \"plt\"]'},\n",
       " ChatCompletionMessage(content='He generado un gráfico de dispersión (scatter plot) usando las columnas 0 y 1 del DataFrame `df_random`. El gráfico muestra los valores de la columna 0 en el eje x y los valores de la columna 1 en el eje y, lo que permite visualizar cualquier posible relación entre estos dos conjuntos de datos.\\n\\nSi necesitas otra visualización o ayuda adicional, házmelo saber.', refusal=None, role='assistant', audio=None, function_call=None, tool_calls=None),\n",
       " {'role': 'assistant',\n",
       "  'content': 'He generado un gráfico de dispersión (scatter plot) usando las columnas 0 y 1 del DataFrame `df_random`. El gráfico muestra los valores de la columna 0 en el eje x y los valores de la columna 1 en el eje y, lo que permite visualizar cualquier posible relación entre estos dos conjuntos de datos.\\n\\nSi necesitas otra visualización o ayuda adicional, házmelo saber.'}]"
      ]
     },
     "execution_count": 61,
     "metadata": {},
     "output_type": "execute_result"
    }
   ],
   "source": [
    "messages"
   ]
  },
  {
   "cell_type": "code",
   "execution_count": 62,
   "metadata": {},
   "outputs": [
    {
     "data": {
      "text/plain": [
       "dict_keys(['numbers', 'total_sum', 'pd', 'np', 'df_random', 'df_stats', 'plt'])"
      ]
     },
     "execution_count": 62,
     "metadata": {},
     "output_type": "execute_result"
    }
   ],
   "source": [
    "env.get_environment().keys()"
   ]
  },
  {
   "cell_type": "code",
   "execution_count": 64,
   "metadata": {},
   "outputs": [
    {
     "data": {
      "text/plain": [
       "['__name__',\n",
       " '__doc__',\n",
       " '__package__',\n",
       " '__loader__',\n",
       " '__spec__',\n",
       " '__file__',\n",
       " '__cached__',\n",
       " '__builtins__',\n",
       " '__annotations__',\n",
       " 'annotations',\n",
       " 'AbstractContextManager',\n",
       " 'ExitStack',\n",
       " 'Enum',\n",
       " 'functools',\n",
       " 'importlib',\n",
       " 'inspect',\n",
       " 'logging',\n",
       " 'sys',\n",
       " 'threading',\n",
       " 'time',\n",
       " 'TYPE_CHECKING',\n",
       " 'cast',\n",
       " 'overload',\n",
       " 'cycler',\n",
       " 'matplotlib',\n",
       " '_api',\n",
       " 'get_backend',\n",
       " 'rcParams',\n",
       " 'cm',\n",
       " 'style',\n",
       " '_pylab_helpers',\n",
       " 'interactive',\n",
       " 'cbook',\n",
       " '_docstring',\n",
       " 'FigureCanvasBase',\n",
       " 'FigureManagerBase',\n",
       " 'MouseButton',\n",
       " 'Figure',\n",
       " 'FigureBase',\n",
       " 'figaspect',\n",
       " 'GridSpec',\n",
       " 'SubplotSpec',\n",
       " 'rcsetup',\n",
       " 'rcParamsDefault',\n",
       " 'rcParamsOrig',\n",
       " 'Artist',\n",
       " 'Axes',\n",
       " 'Subplot',\n",
       " 'BackendFilter',\n",
       " 'backend_registry',\n",
       " 'PolarAxes',\n",
       " '_ColorizerInterface',\n",
       " 'ColorizingArtist',\n",
       " 'Colorizer',\n",
       " 'mlab',\n",
       " 'get_scale_names',\n",
       " '_colormaps',\n",
       " '_color_sequences',\n",
       " 'Colormap',\n",
       " 'np',\n",
       " 'Normalize',\n",
       " 'Line2D',\n",
       " 'AxLine',\n",
       " 'Text',\n",
       " 'Annotation',\n",
       " 'Arrow',\n",
       " 'Circle',\n",
       " 'Rectangle',\n",
       " 'Polygon',\n",
       " 'Button',\n",
       " 'Slider',\n",
       " 'Widget',\n",
       " 'TickHelper',\n",
       " 'Formatter',\n",
       " 'FixedFormatter',\n",
       " 'NullFormatter',\n",
       " 'FuncFormatter',\n",
       " 'FormatStrFormatter',\n",
       " 'ScalarFormatter',\n",
       " 'LogFormatter',\n",
       " 'LogFormatterExponent',\n",
       " 'LogFormatterMathtext',\n",
       " 'Locator',\n",
       " 'IndexLocator',\n",
       " 'FixedLocator',\n",
       " 'NullLocator',\n",
       " 'LinearLocator',\n",
       " 'LogLocator',\n",
       " 'AutoLocator',\n",
       " 'MultipleLocator',\n",
       " 'MaxNLocator',\n",
       " '_log',\n",
       " 'colormaps',\n",
       " 'color_sequences',\n",
       " '_copy_docstring_and_deprecators',\n",
       " '_NO_PYPLOT_NOTE',\n",
       " '_add_pyplot_note',\n",
       " '_ReplDisplayHook',\n",
       " '_REPL_DISPLAYHOOK',\n",
       " '_draw_all_if_interactive',\n",
       " 'install_repl_displayhook',\n",
       " 'uninstall_repl_displayhook',\n",
       " 'draw_all',\n",
       " 'set_loglevel',\n",
       " 'findobj',\n",
       " '_backend_mod',\n",
       " '_get_backend_mod',\n",
       " 'switch_backend',\n",
       " '_warn_if_gui_out_of_main_thread',\n",
       " 'new_figure_manager',\n",
       " 'draw_if_interactive',\n",
       " 'show',\n",
       " 'isinteractive',\n",
       " 'ioff',\n",
       " 'ion',\n",
       " 'pause',\n",
       " 'rc',\n",
       " 'rc_context',\n",
       " 'rcdefaults',\n",
       " 'getp',\n",
       " 'get',\n",
       " 'setp',\n",
       " 'xkcd',\n",
       " 'figure',\n",
       " '_auto_draw_if_interactive',\n",
       " 'gcf',\n",
       " 'fignum_exists',\n",
       " 'get_fignums',\n",
       " 'get_figlabels',\n",
       " 'get_current_fig_manager',\n",
       " 'connect',\n",
       " 'disconnect',\n",
       " 'close',\n",
       " 'clf',\n",
       " 'draw',\n",
       " 'savefig',\n",
       " 'figlegend',\n",
       " 'axes',\n",
       " 'delaxes',\n",
       " 'sca',\n",
       " 'cla',\n",
       " 'subplot',\n",
       " 'subplots',\n",
       " 'subplot_mosaic',\n",
       " 'subplot2grid',\n",
       " 'twinx',\n",
       " 'twiny',\n",
       " 'subplot_tool',\n",
       " 'box',\n",
       " 'xlim',\n",
       " 'ylim',\n",
       " 'xticks',\n",
       " 'yticks',\n",
       " 'rgrids',\n",
       " 'thetagrids',\n",
       " 'get_plot_commands',\n",
       " '_get_pyplot_commands',\n",
       " 'colorbar',\n",
       " 'clim',\n",
       " 'get_cmap',\n",
       " 'set_cmap',\n",
       " 'imread',\n",
       " 'imsave',\n",
       " 'matshow',\n",
       " 'polar',\n",
       " 'figimage',\n",
       " 'figtext',\n",
       " 'gca',\n",
       " 'gci',\n",
       " 'ginput',\n",
       " 'subplots_adjust',\n",
       " 'suptitle',\n",
       " 'tight_layout',\n",
       " 'waitforbuttonpress',\n",
       " 'acorr',\n",
       " 'angle_spectrum',\n",
       " 'annotate',\n",
       " 'arrow',\n",
       " 'autoscale',\n",
       " 'axhline',\n",
       " 'axhspan',\n",
       " 'axis',\n",
       " 'axline',\n",
       " 'axvline',\n",
       " 'axvspan',\n",
       " 'bar',\n",
       " 'barbs',\n",
       " 'barh',\n",
       " 'bar_label',\n",
       " 'boxplot',\n",
       " 'broken_barh',\n",
       " 'clabel',\n",
       " 'cohere',\n",
       " 'contour',\n",
       " 'contourf',\n",
       " 'csd',\n",
       " 'ecdf',\n",
       " 'errorbar',\n",
       " 'eventplot',\n",
       " 'fill',\n",
       " 'fill_between',\n",
       " 'fill_betweenx',\n",
       " 'grid',\n",
       " 'hexbin',\n",
       " 'hist',\n",
       " 'stairs',\n",
       " 'hist2d',\n",
       " 'hlines',\n",
       " 'imshow',\n",
       " 'legend',\n",
       " 'locator_params',\n",
       " 'loglog',\n",
       " 'magnitude_spectrum',\n",
       " 'margins',\n",
       " 'minorticks_off',\n",
       " 'minorticks_on',\n",
       " 'pcolor',\n",
       " 'pcolormesh',\n",
       " 'phase_spectrum',\n",
       " 'pie',\n",
       " 'plot',\n",
       " 'plot_date',\n",
       " 'psd',\n",
       " 'quiver',\n",
       " 'quiverkey',\n",
       " 'scatter',\n",
       " 'semilogx',\n",
       " 'semilogy',\n",
       " 'specgram',\n",
       " 'spy',\n",
       " 'stackplot',\n",
       " 'stem',\n",
       " 'step',\n",
       " 'streamplot',\n",
       " 'table',\n",
       " 'text',\n",
       " 'tick_params',\n",
       " 'ticklabel_format',\n",
       " 'tricontour',\n",
       " 'tricontourf',\n",
       " 'tripcolor',\n",
       " 'triplot',\n",
       " 'violinplot',\n",
       " 'vlines',\n",
       " 'xcorr',\n",
       " 'sci',\n",
       " 'title',\n",
       " 'xlabel',\n",
       " 'ylabel',\n",
       " 'xscale',\n",
       " 'yscale',\n",
       " 'autumn',\n",
       " 'bone',\n",
       " 'cool',\n",
       " 'copper',\n",
       " 'flag',\n",
       " 'gray',\n",
       " 'hot',\n",
       " 'hsv',\n",
       " 'jet',\n",
       " 'pink',\n",
       " 'prism',\n",
       " 'spring',\n",
       " 'summer',\n",
       " 'winter',\n",
       " 'magma',\n",
       " 'inferno',\n",
       " 'plasma',\n",
       " 'viridis',\n",
       " 'nipy_spectral']"
      ]
     },
     "execution_count": 64,
     "metadata": {},
     "output_type": "execute_result"
    }
   ],
   "source": [
    "env.get_environment()['plt'].__dir__()"
   ]
  }
 ],
 "metadata": {
  "kernelspec": {
   "display_name": ".venv",
   "language": "python",
   "name": "python3"
  },
  "language_info": {
   "codemirror_mode": {
    "name": "ipython",
    "version": 3
   },
   "file_extension": ".py",
   "mimetype": "text/x-python",
   "name": "python",
   "nbconvert_exporter": "python",
   "pygments_lexer": "ipython3",
   "version": "3.12.7"
  }
 },
 "nbformat": 4,
 "nbformat_minor": 2
}
