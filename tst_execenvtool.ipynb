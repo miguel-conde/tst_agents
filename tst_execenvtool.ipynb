{
 "cells": [
  {
   "cell_type": "code",
   "execution_count": 1,
   "metadata": {},
   "outputs": [],
   "source": [
    "import openai\n",
    "import json\n",
    "\n",
    "from execenvtool import ExecutionEnvironment\n",
    "\n",
    "%reload_ext autoreload\n",
    "%autoreload 2"
   ]
  },
  {
   "cell_type": "code",
   "execution_count": 3,
   "metadata": {},
   "outputs": [
    {
     "data": {
      "text/plain": [
       "True"
      ]
     },
     "execution_count": 3,
     "metadata": {},
     "output_type": "execute_result"
    }
   ],
   "source": [
    "from dotenv import load_dotenv\n",
    "\n",
    "load_dotenv()"
   ]
  },
  {
   "cell_type": "code",
   "execution_count": 95,
   "metadata": {},
   "outputs": [],
   "source": [
    "# Instanciar el entorno\n",
    "env = ExecutionEnvironment()\n",
    "\n",
    "# Definir las herramientas\n",
    "functions = [\n",
    "    {\n",
    "        \"name\": \"pyExec\",\n",
    "        \"description\": \"Ejecuta código Python en un entorno persistente.\",\n",
    "        \"parameters\": {\n",
    "            \"type\": \"object\",\n",
    "            \"properties\": {\n",
    "                \"code\": {\"type\": \"string\", \"description\": \"El código Python a ejecutar.\"}\n",
    "            },\n",
    "            \"required\": [\"code\"]\n",
    "        }\n",
    "    },\n",
    "    {\n",
    "        \"name\": \"format_variable\",\n",
    "        \"description\": \"Formatea una variable del entorno para hacerla entendible por el LLM.\",\n",
    "        \"parameters\": {\n",
    "            \"type\": \"object\",\n",
    "            \"properties\": {\n",
    "                \"var_name\": {\"type\": \"string\", \"description\": \"Nombre de la variable a formatear.\"}\n",
    "            },\n",
    "            \"required\": [\"var_name\"]\n",
    "        }\n",
    "    }\n",
    "]\n",
    "\n",
    "client =openai.OpenAI()\n",
    "messages = []"
   ]
  },
  {
   "cell_type": "code",
   "execution_count": 107,
   "metadata": {},
   "outputs": [],
   "source": [
    "\n",
    "# Mensaje del usuario\n",
    "messages = [\n",
    "    {\"role\": \"system\", \"content\": \"Eres un programador experto en Python. Respetas siempre PEP8. Tu objetivo es escribir el código necesario para realizar la tarea que te pidan.\"},\n",
    "    {\"role\": \"user\", \"content\": \"Crea una lista de los primeros 100 números y calcula su suma. \"},\n",
    "]\n",
    "\n",
    "# # Generar respuesta del LLM con llamadas a funciones habilitadas\n",
    "# response = openai.ChatCompletion.create(\n",
    "#     model=\"gpt-4-0613\",\n",
    "#     messages=messages,\n",
    "#     functions=functions,\n",
    "#     function_call=\"auto\"\n",
    "# )\n",
    "\n",
    "response = client.chat.completions.create(\n",
    "    model=\"gpt-4o\",\n",
    "    messages=messages,\n",
    "    functions=functions,\n",
    "    function_call=\"auto\"\n",
    ")\n"
   ]
  },
  {
   "cell_type": "code",
   "execution_count": 108,
   "metadata": {},
   "outputs": [
    {
     "data": {
      "text/plain": [
       "ChatCompletionMessage(content=None, refusal=None, role='assistant', audio=None, function_call=FunctionCall(arguments='{\"code\":\"numbers = list(range(1, 101))\\\\ntotal_sum = sum(numbers)\"}', name='pyExec'), tool_calls=None)"
      ]
     },
     "execution_count": 108,
     "metadata": {},
     "output_type": "execute_result"
    }
   ],
   "source": [
    "response.choices[0].message"
   ]
  },
  {
   "cell_type": "code",
   "execution_count": null,
   "metadata": {},
   "outputs": [
    {
     "name": "stdout",
     "output_type": "stream",
     "text": [
      "Código ejecutado:\n",
      "\n",
      "numbers = list(range(1, 101))\n",
      "total_sum = sum(numbers)\n",
      "\n",
      "Resultado de pyExec: [1, 2, 3, 4, 5, 6, 7, 8, 9, 10, 11, 12, 13, 14, 15, 16, 17, 18, 19, 20, 21, 22, 23, 24, 25, 26, 27, 28, 29, 30, 31, 32, 33, 34, 35, 36, 37, 38, 39, 40, 41, 42, 43, 44, 45, 46, 47, 48, 49, 50, 51, 52, 53, 54, 55, 56, 57, 58, 59, 60, 61, 62, 63, 64, 65, 66, 67, 68, 69, 70, 71, 72, 73, 74, 75, 76, 77, 78, 79, 80, 81, 82, 83, 84, 85, 86, 87, 88, 89, 90, 91, 92, 93, 94, 95, 96, 97, 98, 99, 100]\n"
     ]
    }
   ],
   "source": [
    "def process_response(response, messages):\n",
    "    if response.choices[0].finish_reason == \"function_call\":\n",
    "        function_call = response.choices[0].message.function_call\n",
    "        function_name = function_call.name\n",
    "        arguments = function_call.arguments\n",
    "\n",
    "        function_call_result_message = {\n",
    "            'role': 'tool',\n",
    "        }\n",
    "\n",
    "        if function_name == \"pyExec\":\n",
    "            code = json.loads(arguments)['code']\n",
    "            result = env.pyExec(code)\n",
    "\n",
    "            function_call_result_message['content'] = json.dumps({\n",
    "                'code': code,\n",
    "                'variables in environment': result,})\n",
    "\n",
    "            print(f\"Código ejecutado:\\n\\n{code}\\n\")\n",
    "            print(\"Resultado de pyExec:\", result['lista_numeros'])\n",
    "        elif function_name == \"format_variable\":\n",
    "            var_name = arguments[\"var_name\"]\n",
    "            formatted = env.format_variable(var_name)\n",
    "\n",
    "            function_call_result_message['content'] = json.dumps({\n",
    "                'var_name': var_name,\n",
    "                'formatted': formatted,})\n",
    "\n",
    "            print(\"Variable formateada:\", formatted)\n",
    "\n",
    "        messages.append(response.choices[0].message)\n",
    "        messages.append(function_call_result_message)\n",
    "    elif response.choices[0].finish_reason == \"tool_call\":\n",
    "        pass\n",
    "    else:\n",
    "        content = response.choices[0].message.content\n",
    "        messages.append({\"role\": \"assistant\", \"content\": content})"
   ]
  },
  {
   "cell_type": "code",
   "execution_count": 112,
   "metadata": {},
   "outputs": [
    {
     "data": {
      "text/plain": [
       "[{'role': 'system',\n",
       "  'content': 'Eres un programador experto en Python. Respetas siempre PEP8. Tu objetivo es escribir el código necesario para realizar la tarea que te pidan.'},\n",
       " {'role': 'user',\n",
       "  'content': 'Crea una lista de los primeros 100 números y calcula su suma. '},\n",
       " ChatCompletionMessage(content=None, refusal=None, role='assistant', audio=None, function_call=FunctionCall(arguments='{\"code\":\"numbers = list(range(1, 101))\\\\ntotal_sum = sum(numbers)\"}', name='pyExec'), tool_calls=None),\n",
       " {'role': 'tool',\n",
       "  'content': '{\"code\": \"numbers = list(range(1, 101))\\\\ntotal_sum = sum(numbers)\", \"variables in environment\": {\"lista_numeros\": [1, 2, 3, 4, 5, 6, 7, 8, 9, 10, 11, 12, 13, 14, 15, 16, 17, 18, 19, 20, 21, 22, 23, 24, 25, 26, 27, 28, 29, 30, 31, 32, 33, 34, 35, 36, 37, 38, 39, 40, 41, 42, 43, 44, 45, 46, 47, 48, 49, 50, 51, 52, 53, 54, 55, 56, 57, 58, 59, 60, 61, 62, 63, 64, 65, 66, 67, 68, 69, 70, 71, 72, 73, 74, 75, 76, 77, 78, 79, 80, 81, 82, 83, 84, 85, 86, 87, 88, 89, 90, 91, 92, 93, 94, 95, 96, 97, 98, 99, 100], \"suma_numeros\": 5050, \"numeros\": [1, 2, 3, 4, 5, 6, 7, 8, 9, 10, 11, 12, 13, 14, 15, 16, 17, 18, 19, 20, 21, 22, 23, 24, 25, 26, 27, 28, 29, 30, 31, 32, 33, 34, 35, 36, 37, 38, 39, 40, 41, 42, 43, 44, 45, 46, 47, 48, 49, 50, 51, 52, 53, 54, 55, 56, 57, 58, 59, 60, 61, 62, 63, 64, 65, 66, 67, 68, 69, 70, 71, 72, 73, 74, 75, 76, 77, 78, 79, 80, 81, 82, 83, 84, 85, 86, 87, 88, 89, 90, 91, 92, 93, 94, 95, 96, 97, 98, 99, 100], \"numbers\": [1, 2, 3, 4, 5, 6, 7, 8, 9, 10, 11, 12, 13, 14, 15, 16, 17, 18, 19, 20, 21, 22, 23, 24, 25, 26, 27, 28, 29, 30, 31, 32, 33, 34, 35, 36, 37, 38, 39, 40, 41, 42, 43, 44, 45, 46, 47, 48, 49, 50, 51, 52, 53, 54, 55, 56, 57, 58, 59, 60, 61, 62, 63, 64, 65, 66, 67, 68, 69, 70, 71, 72, 73, 74, 75, 76, 77, 78, 79, 80, 81, 82, 83, 84, 85, 86, 87, 88, 89, 90, 91, 92, 93, 94, 95, 96, 97, 98, 99, 100], \"total_sum\": 5050}}'}]"
      ]
     },
     "execution_count": 112,
     "metadata": {},
     "output_type": "execute_result"
    }
   ],
   "source": [
    "response = client.chat.completions.create(\n",
    "    model=\"gpt-4o\",\n",
    "    messages=messages,\n",
    "    functions=functions,\n",
    "    function_call=\"auto\"\n",
    ")"
   ]
  },
  {
   "cell_type": "code",
   "execution_count": 102,
   "metadata": {},
   "outputs": [
    {
     "name": "stdout",
     "output_type": "stream",
     "text": [
      "Código ejecutado:\n",
      "\n",
      "# Crear una lista de los primeros 100 números\n",
      "numeros = list(range(1, 101))\n",
      "\n",
      "# Calcular la suma de los primeros 100 números\n",
      "suma_numeros = sum(numeros)\n",
      "\n",
      "Resultado de pyExec: [1, 2, 3, 4, 5, 6, 7, 8, 9, 10, 11, 12, 13, 14, 15, 16, 17, 18, 19, 20, 21, 22, 23, 24, 25, 26, 27, 28, 29, 30, 31, 32, 33, 34, 35, 36, 37, 38, 39, 40, 41, 42, 43, 44, 45, 46, 47, 48, 49, 50, 51, 52, 53, 54, 55, 56, 57, 58, 59, 60, 61, 62, 63, 64, 65, 66, 67, 68, 69, 70, 71, 72, 73, 74, 75, 76, 77, 78, 79, 80, 81, 82, 83, 84, 85, 86, 87, 88, 89, 90, 91, 92, 93, 94, 95, 96, 97, 98, 99, 100]\n"
     ]
    }
   ],
   "source": [
    "\n",
    "# Procesar la llamada a funciones\n",
    "if response.choices[0].finish_reason == \"function_call\":\n",
    "    function_call = response.choices[0].message.function_call\n",
    "    function_name = function_call.name\n",
    "    arguments = function_call.arguments\n",
    "\n",
    "    if function_name == \"pyExec\":\n",
    "        code = json.loads(arguments)['code']\n",
    "        result = env.pyExec(code)\n",
    "        print(f\"Código ejecutado:\\n\\n{code}\\n\")\n",
    "        print(\"Resultado de pyExec:\", result['lista_numeros'])\n",
    "    elif function_name == \"format_variable\":\n",
    "        var_name = arguments[\"var_name\"]\n",
    "        formatted = env.format_variable(var_name)\n",
    "        print(\"Variable formateada:\", formatted)\n"
   ]
  },
  {
   "cell_type": "code",
   "execution_count": 52,
   "metadata": {},
   "outputs": [],
   "source": [
    "# Mensaje del usuario\n",
    "messages = [\n",
    "    {\"role\": \"user\", \"content\": \"Muestra la variable `lista_numeros` formateada.\"}\t\n",
    "]\n",
    "\n",
    "# # Generar respuesta del LLM con llamadas a funciones habilitadas\n",
    "# response = openai.ChatCompletion.create(\n",
    "#     model=\"gpt-4-0613\",\n",
    "#     messages=messages,\n",
    "#     functions=functions,\n",
    "#     function_call=\"auto\"\n",
    "# )\n",
    "\n",
    "client = openai.OpenAI()\n",
    "response = client.chat.completions.create(\n",
    "    model=\"gpt-4o\",\n",
    "    messages=messages,\n",
    "    functions=functions,\n",
    "    function_call=\"auto\"\n",
    ")\n"
   ]
  },
  {
   "cell_type": "code",
   "execution_count": 55,
   "metadata": {},
   "outputs": [
    {
     "name": "stdout",
     "output_type": "stream",
     "text": [
      "Variable formateada: {'type': 'list', 'size': 856, 'content': [1, 2, 3, 4, 5, 6, 7, 8, 9, 10, 11, 12, 13, 14, 15, 16, 17, 18, 19, 20, 21, 22, 23, 24, 25, 26, 27, 28, 29, 30, 31, 32, 33, 34, 35, 36, 37, 38, 39, 40, 41, 42, 43, 44, 45, 46, 47, 48, 49, 50, 51, 52, 53, 54, 55, 56, 57, 58, 59, 60, 61, 62, 63, 64, 65, 66, 67, 68, 69, 70, 71, 72, 73, 74, 75, 76, 77, 78, 79, 80, 81, 82, 83, 84, 85, 86, 87, 88, 89, 90, 91, 92, 93, 94, 95, 96, 97, 98, 99, 100]}\n"
     ]
    }
   ],
   "source": [
    "# Procesar la llamada a funciones\n",
    "if response.choices[0].finish_reason == \"function_call\":\n",
    "    function_call = response.choices[0].message.function_call\n",
    "    function_name = function_call.name\n",
    "    arguments = json.loads(function_call.arguments)\n",
    "\n",
    "    if function_name == \"pyExec\":\n",
    "        code = arguments['code']\n",
    "        result = env.pyExec(code)\n",
    "        print(\"Resultado de pyExec:\", result)\n",
    "    elif function_name == \"format_variable\":\n",
    "        var_name = arguments[\"var_name\"]\n",
    "        formatted = env.format_variable(var_name)\n",
    "        print(\"Variable formateada:\", formatted)\n"
   ]
  },
  {
   "cell_type": "code",
   "execution_count": 64,
   "metadata": {},
   "outputs": [],
   "source": [
    "# Mensaje del usuario\n",
    "messages = [\n",
    "    {\"role\": \"user\", \"content\": \"Genera un dataframe 10x5 con numeros aleatorios. Asígnalo a la variable `df_random`.\"},\n",
    "]\n",
    "\n",
    "response = client.chat.completions.create(\n",
    "    model=\"gpt-4o\",\n",
    "    messages=messages,\n",
    "    functions=functions,\n",
    "    function_call=\"auto\"\n",
    ")\n"
   ]
  },
  {
   "cell_type": "code",
   "execution_count": 65,
   "metadata": {},
   "outputs": [
    {
     "name": "stdout",
     "output_type": "stream",
     "text": [
      "Resultado de pyExec: {'numeros': [1, 2, 3, 4, 5, 6, 7, 8, 9, 10, 11, 12, 13, 14, 15, 16, 17, 18, 19, 20, 21, 22, 23, 24, 25, 26, 27, 28, 29, 30, 31, 32, 33, 34, 35, 36, 37, 38, 39, 40, 41, 42, 43, 44, 45, 46, 47, 48, 49, 50, 51, 52, 53, 54, 55, 56, 57, 58, 59, 60, 61, 62, 63, 64, 65, 66, 67, 68, 69, 70, 71, 72, 73, 74, 75, 76, 77, 78, 79, 80, 81, 82, 83, 84, 85, 86, 87, 88, 89, 90, 91, 92, 93, 94, 95, 96, 97, 98, 99, 100], 'suma_numeros': 5050, 'lista_numeros': [1, 2, 3, 4, 5, 6, 7, 8, 9, 10, 11, 12, 13, 14, 15, 16, 17, 18, 19, 20, 21, 22, 23, 24, 25, 26, 27, 28, 29, 30, 31, 32, 33, 34, 35, 36, 37, 38, 39, 40, 41, 42, 43, 44, 45, 46, 47, 48, 49, 50, 51, 52, 53, 54, 55, 56, 57, 58, 59, 60, 61, 62, 63, 64, 65, 66, 67, 68, 69, 70, 71, 72, 73, 74, 75, 76, 77, 78, 79, 80, 81, 82, 83, 84, 85, 86, 87, 88, 89, 90, 91, 92, 93, 94, 95, 96, 97, 98, 99, 100], 'suma_lista_numeros': 5050, 'pd': <module 'pandas' from 'c:\\\\Users\\\\migue\\\\Documents\\\\PROYECTOS DATA SCIENCE\\\\tst_agents\\\\.venv\\\\Lib\\\\site-packages\\\\pandas\\\\__init__.py'>, 'np': <module 'numpy' from 'c:\\\\Users\\\\migue\\\\Documents\\\\PROYECTOS DATA SCIENCE\\\\tst_agents\\\\.venv\\\\Lib\\\\site-packages\\\\numpy\\\\__init__.py'>, 'df_random':       col_1     col_2     col_3     col_4     col_5\n",
      "0  0.822162  0.328218  0.396446  0.068714  0.646396\n",
      "1  0.103327  0.023288  0.388253  0.230713  0.624443\n",
      "2  0.181536  0.167583  0.531788  0.867528  0.225602\n",
      "3  0.716761  0.375365  0.599234  0.469871  0.857261\n",
      "4  0.578073  0.207165  0.216533  0.000336  0.125650\n",
      "5  0.788185  0.693517  0.231855  0.059930  0.603853\n",
      "6  0.889193  0.644720  0.280851  0.185504  0.703642\n",
      "7  0.293234  0.804929  0.585010  0.412482  0.036353\n",
      "8  0.855304  0.710128  0.489700  0.024286  0.722990\n",
      "9  0.219286  0.098513  0.758322  0.017946  0.690280}\n"
     ]
    }
   ],
   "source": [
    "# Procesar la llamada a funciones\n",
    "if response.choices[0].finish_reason == \"function_call\":\n",
    "    function_call = response.choices[0].message.function_call\n",
    "    function_name = function_call.name\n",
    "    arguments = json.loads(function_call.arguments)\n",
    "\n",
    "    if function_name == \"pyExec\":\n",
    "        code = arguments['code']\n",
    "        result = env.pyExec(code)\n",
    "        print(\"Resultado de pyExec:\", result)\n",
    "    elif function_name == \"format_variable\":\n",
    "        var_name = arguments[\"var_name\"]\n",
    "        formatted = env.format_variable(var_name)\n",
    "        print(\"Variable formateada:\", formatted)"
   ]
  },
  {
   "cell_type": "code",
   "execution_count": 66,
   "metadata": {},
   "outputs": [],
   "source": [
    "# Mensaje del usuario\n",
    "messages = [\n",
    "    {\"role\": \"user\", \"content\": \"Muestra el datafrasme `df_random` formateado\"},\n",
    "]\n",
    "\n",
    "response = client.chat.completions.create(\n",
    "    model=\"gpt-4o\",\n",
    "    messages=messages,\n",
    "    functions=functions,\n",
    "    function_call=\"auto\"\n",
    ")"
   ]
  },
  {
   "cell_type": "code",
   "execution_count": 67,
   "metadata": {},
   "outputs": [
    {
     "data": {
      "text/plain": [
       "ChatCompletion(id='chatcmpl-AgFqFmVpbsHl1jpbKe5EZQvOe4p8a', choices=[Choice(finish_reason='function_call', index=0, logprobs=None, message=ChatCompletionMessage(content=None, refusal=None, role='assistant', audio=None, function_call=FunctionCall(arguments='{\"var_name\":\"df_random\"}', name='format_variable'), tool_calls=None))], created=1734634035, model='gpt-4o-2024-08-06', object='chat.completion', service_tier=None, system_fingerprint='fp_f785eb5f47', usage=CompletionUsage(completion_tokens=16, prompt_tokens=108, total_tokens=124, completion_tokens_details=CompletionTokensDetails(accepted_prediction_tokens=0, audio_tokens=0, reasoning_tokens=0, rejected_prediction_tokens=0), prompt_tokens_details=PromptTokensDetails(audio_tokens=0, cached_tokens=0)))"
      ]
     },
     "execution_count": 67,
     "metadata": {},
     "output_type": "execute_result"
    }
   ],
   "source": [
    "response"
   ]
  },
  {
   "cell_type": "code",
   "execution_count": 68,
   "metadata": {},
   "outputs": [
    {
     "name": "stdout",
     "output_type": "stream",
     "text": [
      "Variable formateada: {'type': 'DataFrame', 'size': 564, 'content':       col_1     col_2     col_3     col_4     col_5\n",
      "0  0.822162  0.328218  0.396446  0.068714  0.646396\n",
      "1  0.103327  0.023288  0.388253  0.230713  0.624443\n",
      "2  0.181536  0.167583  0.531788  0.867528  0.225602\n",
      "3  0.716761  0.375365  0.599234  0.469871  0.857261\n",
      "4  0.578073  0.207165  0.216533  0.000336  0.125650\n",
      "5  0.788185  0.693517  0.231855  0.059930  0.603853\n",
      "6  0.889193  0.644720  0.280851  0.185504  0.703642\n",
      "7  0.293234  0.804929  0.585010  0.412482  0.036353\n",
      "8  0.855304  0.710128  0.489700  0.024286  0.722990\n",
      "9  0.219286  0.098513  0.758322  0.017946  0.690280}\n"
     ]
    }
   ],
   "source": [
    "# Procesar la llamada a funciones\n",
    "if response.choices[0].finish_reason == \"function_call\":\n",
    "    function_call = response.choices[0].message.function_call\n",
    "    function_name = function_call.name\n",
    "    arguments = json.loads(function_call.arguments)\n",
    "\n",
    "    if function_name == \"pyExec\":\n",
    "        code = arguments['code']\n",
    "        result = env.pyExec(code)\n",
    "        print(\"Resultado de pyExec:\", result)\n",
    "    elif function_name == \"format_variable\":\n",
    "        var_name = arguments[\"var_name\"]\n",
    "        formatted = env.format_variable(var_name)\n",
    "        print(\"Variable formateada:\", formatted)\n",
    "else:\n",
    "    print(response.choices[0].message.content)"
   ]
  },
  {
   "cell_type": "code",
   "execution_count": 69,
   "metadata": {},
   "outputs": [],
   "source": [
    "# Mensaje del usuario\n",
    "messages = [\n",
    "    {\"role\": \"user\", \"content\": \"Calcula estadisticos básicos para todas las columnas `df_random` y assignalas a otro dataframe `df_stats`.\"},\n",
    "]\n",
    "\n",
    "response = client.chat.completions.create(\n",
    "    model=\"gpt-4o\",\n",
    "    messages=messages,\n",
    "    functions=functions,\n",
    "    function_call=\"auto\"\n",
    ")"
   ]
  },
  {
   "cell_type": "code",
   "execution_count": 88,
   "metadata": {},
   "outputs": [
    {
     "name": "stdout",
     "output_type": "stream",
     "text": [
      "Código ejecutado:\n",
      "\n",
      "import pandas as pd\n",
      "import numpy as np\n",
      "\n",
      "df_random = pd.DataFrame(np.random.rand(100, 5), columns=[f'col_{i}' for i in range(5)])\n",
      "\n",
      "df_stats = df_random.describe().transpose()\n",
      "df_stats\n",
      "\n",
      "Resultado de pyExec:\n",
      "\n",
      "        count      mean       std       min       25%       50%       75%  \\\n",
      "col_0  100.0  0.479439  0.284481  0.015156  0.265113  0.443111  0.725087   \n",
      "col_1  100.0  0.494419  0.264964  0.013069  0.289194  0.500336  0.707419   \n",
      "col_2  100.0  0.455909  0.274487  0.000422  0.235957  0.440049  0.698832   \n",
      "col_3  100.0  0.515654  0.298999  0.003350  0.279013  0.518222  0.749496   \n",
      "col_4  100.0  0.492392  0.278543  0.006042  0.260763  0.507278  0.713293   \n",
      "\n",
      "            max  \n",
      "col_0  0.998220  \n",
      "col_1  0.993293  \n",
      "col_2  0.974953  \n",
      "col_3  0.994552  \n",
      "col_4  0.996817  \n"
     ]
    }
   ],
   "source": [
    "# Procesar la llamada a funciones\n",
    "if response.choices[0].finish_reason == \"function_call\":\n",
    "    function_call = response.choices[0].message.function_call\n",
    "    function_name = function_call.name\n",
    "    arguments = json.loads(function_call.arguments)\n",
    "\n",
    "    if function_name == \"pyExec\":\n",
    "        code = arguments['code']\n",
    "        result = env.pyExec(code)['df_stats']\n",
    "        print(f\"Código ejecutado:\\n\\n{code}\\n\")\n",
    "        print(\"Resultado de pyExec:\\n\\n\", result)\n",
    "    elif function_name == \"format_variable\":\n",
    "        var_name = arguments[\"var_name\"]\n",
    "        formatted = env.format_variable(var_name)\n",
    "        print(\"Variable formateada:\", formatted)\n",
    "else:\n",
    "    print(response.choices[0].message.content)"
   ]
  },
  {
   "cell_type": "code",
   "execution_count": 84,
   "metadata": {},
   "outputs": [
    {
     "data": {
      "text/html": [
       "<div>\n",
       "<style scoped>\n",
       "    .dataframe tbody tr th:only-of-type {\n",
       "        vertical-align: middle;\n",
       "    }\n",
       "\n",
       "    .dataframe tbody tr th {\n",
       "        vertical-align: top;\n",
       "    }\n",
       "\n",
       "    .dataframe thead th {\n",
       "        text-align: right;\n",
       "    }\n",
       "</style>\n",
       "<table border=\"1\" class=\"dataframe\">\n",
       "  <thead>\n",
       "    <tr style=\"text-align: right;\">\n",
       "      <th></th>\n",
       "      <th>count</th>\n",
       "      <th>mean</th>\n",
       "      <th>std</th>\n",
       "      <th>min</th>\n",
       "      <th>25%</th>\n",
       "      <th>50%</th>\n",
       "      <th>75%</th>\n",
       "      <th>max</th>\n",
       "    </tr>\n",
       "  </thead>\n",
       "  <tbody>\n",
       "    <tr>\n",
       "      <th>col_0</th>\n",
       "      <td>100.0</td>\n",
       "      <td>0.478815</td>\n",
       "      <td>0.300050</td>\n",
       "      <td>0.008745</td>\n",
       "      <td>0.204584</td>\n",
       "      <td>0.471068</td>\n",
       "      <td>0.726903</td>\n",
       "      <td>0.998708</td>\n",
       "    </tr>\n",
       "    <tr>\n",
       "      <th>col_1</th>\n",
       "      <td>100.0</td>\n",
       "      <td>0.562803</td>\n",
       "      <td>0.292008</td>\n",
       "      <td>0.000073</td>\n",
       "      <td>0.331212</td>\n",
       "      <td>0.585977</td>\n",
       "      <td>0.806177</td>\n",
       "      <td>0.995810</td>\n",
       "    </tr>\n",
       "    <tr>\n",
       "      <th>col_2</th>\n",
       "      <td>100.0</td>\n",
       "      <td>0.557433</td>\n",
       "      <td>0.278670</td>\n",
       "      <td>0.008298</td>\n",
       "      <td>0.308613</td>\n",
       "      <td>0.583332</td>\n",
       "      <td>0.778116</td>\n",
       "      <td>0.993446</td>\n",
       "    </tr>\n",
       "    <tr>\n",
       "      <th>col_3</th>\n",
       "      <td>100.0</td>\n",
       "      <td>0.491004</td>\n",
       "      <td>0.303655</td>\n",
       "      <td>0.001910</td>\n",
       "      <td>0.192489</td>\n",
       "      <td>0.501593</td>\n",
       "      <td>0.746168</td>\n",
       "      <td>0.999903</td>\n",
       "    </tr>\n",
       "    <tr>\n",
       "      <th>col_4</th>\n",
       "      <td>100.0</td>\n",
       "      <td>0.506791</td>\n",
       "      <td>0.262311</td>\n",
       "      <td>0.010605</td>\n",
       "      <td>0.319159</td>\n",
       "      <td>0.508901</td>\n",
       "      <td>0.724993</td>\n",
       "      <td>0.966139</td>\n",
       "    </tr>\n",
       "  </tbody>\n",
       "</table>\n",
       "</div>"
      ],
      "text/plain": [
       "       count      mean       std       min       25%       50%       75%  \\\n",
       "col_0  100.0  0.478815  0.300050  0.008745  0.204584  0.471068  0.726903   \n",
       "col_1  100.0  0.562803  0.292008  0.000073  0.331212  0.585977  0.806177   \n",
       "col_2  100.0  0.557433  0.278670  0.008298  0.308613  0.583332  0.778116   \n",
       "col_3  100.0  0.491004  0.303655  0.001910  0.192489  0.501593  0.746168   \n",
       "col_4  100.0  0.506791  0.262311  0.010605  0.319159  0.508901  0.724993   \n",
       "\n",
       "            max  \n",
       "col_0  0.998708  \n",
       "col_1  0.995810  \n",
       "col_2  0.993446  \n",
       "col_3  0.999903  \n",
       "col_4  0.966139  "
      ]
     },
     "execution_count": 84,
     "metadata": {},
     "output_type": "execute_result"
    }
   ],
   "source": [
    "result"
   ]
  },
  {
   "cell_type": "code",
   "execution_count": 80,
   "metadata": {},
   "outputs": [
    {
     "data": {
      "text/plain": [
       "'pyExec'"
      ]
     },
     "execution_count": 80,
     "metadata": {},
     "output_type": "execute_result"
    }
   ],
   "source": [
    "function_name"
   ]
  },
  {
   "cell_type": "code",
   "execution_count": 79,
   "metadata": {},
   "outputs": [
    {
     "name": "stdout",
     "output_type": "stream",
     "text": [
      "import pandas as pd\n",
      "import numpy as np\n",
      "\n",
      "df_random = pd.DataFrame(np.random.rand(100, 5), columns=[f'col_{i}' for i in range(5)])\n",
      "\n",
      "df_stats = df_random.describe().transpose()\n",
      "df_stats\n"
     ]
    }
   ],
   "source": [
    "print(json.loads(response.choices[0].message.function_call.arguments)['code'])"
   ]
  },
  {
   "cell_type": "code",
   "execution_count": 89,
   "metadata": {},
   "outputs": [],
   "source": [
    "messages = [\n",
    "    {\"role\": \"user\", \"content\": \"Crea un scatter plot con las columnas 0 y 1 de `df_random`.\"},\n",
    "]\n",
    "\n",
    "response = client.chat.completions.create(\n",
    "    model=\"gpt-4o\",\n",
    "    messages=messages,\n",
    "    functions=functions,\n",
    "    function_call=\"auto\"\n",
    ")"
   ]
  },
  {
   "cell_type": "code",
   "execution_count": 94,
   "metadata": {},
   "outputs": [
    {
     "data": {
      "text/plain": [
       "ChatCompletionMessage(content=None, refusal=None, role='assistant', audio=None, function_call=FunctionCall(arguments='{\"code\":\"import pandas as pd\\\\nimport numpy as np\\\\nimport matplotlib.pyplot as plt\\\\n\\\\n# Crear un DataFrame aleatorio para df_random con 5 columnas y 100 filas\\\\ndf_random = pd.DataFrame(np.random.rand(100, 5), columns=[\\'A\\', \\'B\\', \\'C\\', \\'D\\', \\'E\\'])\\\\n\\\\n# Scatter plot para las columnas 0 (A) y 1 (B) de df_random\\\\nplt.figure(figsize=(8, 6))\\\\nplt.scatter(df_random.iloc[:, 0], df_random.iloc[:, 1], c=\\'blue\\', alpha=0.5)\\\\nplt.title(\\'Scatter Plot de las columnas 0 y 1\\')\\\\nplt.xlabel(\\'Columna 0 (A)\\')\\\\nplt.ylabel(\\'Columna 1 (B)\\')\\\\nplt.grid(True)\\\\nplt.show()\"}', name='pyExec'), tool_calls=None)"
      ]
     },
     "execution_count": 94,
     "metadata": {},
     "output_type": "execute_result"
    }
   ],
   "source": [
    "response.choices[0].message"
   ]
  },
  {
   "cell_type": "code",
   "execution_count": 92,
   "metadata": {},
   "outputs": [
    {
     "data": {
      "image/png": "[encoded data removed]",
      "text/plain": [
       "<Figure size 800x600 with 1 Axes>"
      ]
     },
     "metadata": {},
     "output_type": "display_data"
    },
    {
     "name": "stdout",
     "output_type": "stream",
     "text": [
      "Código ejecutado:\n",
      "\n",
      "import pandas as pd\n",
      "import numpy as np\n",
      "import matplotlib.pyplot as plt\n",
      "\n",
      "# Crear un DataFrame aleatorio para df_random con 5 columnas y 100 filas\n",
      "df_random = pd.DataFrame(np.random.rand(100, 5), columns=['A', 'B', 'C', 'D', 'E'])\n",
      "\n",
      "# Scatter plot para las columnas 0 (A) y 1 (B) de df_random\n",
      "plt.figure(figsize=(8, 6))\n",
      "plt.scatter(df_random.iloc[:, 0], df_random.iloc[:, 1], c='blue', alpha=0.5)\n",
      "plt.title('Scatter Plot de las columnas 0 y 1')\n",
      "plt.xlabel('Columna 0 (A)')\n",
      "plt.ylabel('Columna 1 (B)')\n",
      "plt.grid(True)\n",
      "plt.show()\n",
      "\n",
      "Resultado de pyExec:\n",
      "\n",
      " {'numeros': [1, 2, 3, 4, 5, 6, 7, 8, 9, 10, 11, 12, 13, 14, 15, 16, 17, 18, 19, 20, 21, 22, 23, 24, 25, 26, 27, 28, 29, 30, 31, 32, 33, 34, 35, 36, 37, 38, 39, 40, 41, 42, 43, 44, 45, 46, 47, 48, 49, 50, 51, 52, 53, 54, 55, 56, 57, 58, 59, 60, 61, 62, 63, 64, 65, 66, 67, 68, 69, 70, 71, 72, 73, 74, 75, 76, 77, 78, 79, 80, 81, 82, 83, 84, 85, 86, 87, 88, 89, 90, 91, 92, 93, 94, 95, 96, 97, 98, 99, 100], 'suma_numeros': 5050, 'lista_numeros': [1, 2, 3, 4, 5, 6, 7, 8, 9, 10, 11, 12, 13, 14, 15, 16, 17, 18, 19, 20, 21, 22, 23, 24, 25, 26, 27, 28, 29, 30, 31, 32, 33, 34, 35, 36, 37, 38, 39, 40, 41, 42, 43, 44, 45, 46, 47, 48, 49, 50, 51, 52, 53, 54, 55, 56, 57, 58, 59, 60, 61, 62, 63, 64, 65, 66, 67, 68, 69, 70, 71, 72, 73, 74, 75, 76, 77, 78, 79, 80, 81, 82, 83, 84, 85, 86, 87, 88, 89, 90, 91, 92, 93, 94, 95, 96, 97, 98, 99, 100], 'suma_lista_numeros': 5050, 'pd': <module 'pandas' from 'c:\\\\Users\\\\migue\\\\Documents\\\\PROYECTOS DATA SCIENCE\\\\tst_agents\\\\.venv\\\\Lib\\\\site-packages\\\\pandas\\\\__init__.py'>, 'np': <module 'numpy' from 'c:\\\\Users\\\\migue\\\\Documents\\\\PROYECTOS DATA SCIENCE\\\\tst_agents\\\\.venv\\\\Lib\\\\site-packages\\\\numpy\\\\__init__.py'>, 'df_random':            A         B         C         D         E\n",
      "0   0.061976  0.237856  0.022401  0.199594  0.112229\n",
      "1   0.456796  0.326420  0.343575  0.432619  0.996425\n",
      "2   0.948819  0.978737  0.122759  0.159408  0.945373\n",
      "3   0.338506  0.383523  0.178677  0.875967  0.899924\n",
      "4   0.584403  0.649957  0.253873  0.280277  0.216733\n",
      "..       ...       ...       ...       ...       ...\n",
      "95  0.587403  0.447428  0.518151  0.908226  0.884194\n",
      "96  0.934235  0.975587  0.968568  0.239617  0.715237\n",
      "97  0.586687  0.034431  0.036697  0.110409  0.965687\n",
      "98  0.715035  0.624588  0.273701  0.570853  0.719015\n",
      "99  0.024278  0.616142  0.564754  0.557357  0.635575\n",
      "\n",
      "[100 rows x 5 columns], 'df_stats':        count      mean       std       min       25%       50%       75%  \\\n",
      "col_0  100.0  0.479439  0.284481  0.015156  0.265113  0.443111  0.725087   \n",
      "col_1  100.0  0.494419  0.264964  0.013069  0.289194  0.500336  0.707419   \n",
      "col_2  100.0  0.455909  0.274487  0.000422  0.235957  0.440049  0.698832   \n",
      "col_3  100.0  0.515654  0.298999  0.003350  0.279013  0.518222  0.749496   \n",
      "col_4  100.0  0.492392  0.278543  0.006042  0.260763  0.507278  0.713293   \n",
      "\n",
      "            max  \n",
      "col_0  0.998220  \n",
      "col_1  0.993293  \n",
      "col_2  0.974953  \n",
      "col_3  0.994552  \n",
      "col_4  0.996817  , 'plt': <module 'matplotlib.pyplot' from 'c:\\\\Users\\\\migue\\\\Documents\\\\PROYECTOS DATA SCIENCE\\\\tst_agents\\\\.venv\\\\Lib\\\\site-packages\\\\matplotlib\\\\pyplot.py'>}\n"
     ]
    }
   ],
   "source": [
    "# Procesar la llamada a funciones\n",
    "if response.choices[0].finish_reason == \"function_call\":\n",
    "    function_call = response.choices[0].message.function_call\n",
    "    function_name = function_call.name\n",
    "    arguments = json.loads(function_call.arguments)\n",
    "\n",
    "    if function_name == \"pyExec\":\n",
    "        code = arguments['code']\n",
    "        result = env.pyExec(code)\n",
    "        print(f\"Código ejecutado:\\n\\n{code}\\n\")\n",
    "        print(\"Resultado de pyExec:\\n\\n\", result)\n",
    "    elif function_name == \"format_variable\":\n",
    "        var_name = arguments[\"var_name\"]\n",
    "        formatted = env.format_variable(var_name)\n",
    "        print(\"Variable formateada:\", formatted)\n",
    "else:\n",
    "    print(response.choices[0].message.content)"
   ]
  }
 ],
 "metadata": {
  "kernelspec": {
   "display_name": ".venv",
   "language": "python",
   "name": "python3"
  },
  "language_info": {
   "codemirror_mode": {
    "name": "ipython",
    "version": 3
   },
   "file_extension": ".py",
   "mimetype": "text/x-python",
   "name": "python",
   "nbconvert_exporter": "python",
   "pygments_lexer": "ipython3",
   "version": "3.11.3"
  }
 },
 "nbformat": 4,
 "nbformat_minor": 2
}
